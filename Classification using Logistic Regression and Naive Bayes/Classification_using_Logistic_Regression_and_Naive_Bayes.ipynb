{
  "nbformat": 4,
  "nbformat_minor": 0,
  "metadata": {
    "colab": {
      "provenance": []
    },
    "kernelspec": {
      "name": "python3",
      "display_name": "Python 3"
    },
    "language_info": {
      "name": "python"
    }
  },
  "cells": [
    {
      "cell_type": "code",
      "execution_count": null,
      "metadata": {
        "id": "q5iwP-_8H2Tf"
      },
      "outputs": [],
      "source": []
    },
    {
      "cell_type": "markdown",
      "source": [
        "# **Classification Algo in Varies situation and performance measurement of models**:\n",
        "\n",
        "\n",
        "\n"
      ],
      "metadata": {
        "id": "L-ZRyx1wH4oC"
      }
    },
    {
      "cell_type": "markdown",
      "source": [
        "**Logistic Regression:**A statical method that models the probability of a binary outcome.\n",
        "Logistic regression predicts the output of a catagorical dependent variable.Therefore the outcome must be a categorical or discrete value.It can instead of giving the teact value as 0 and 1,it gives the probablistic values which lie between 0 and 1"
      ],
      "metadata": {
        "id": "WaItp8VbIe1x"
      }
    },
    {
      "cell_type": "code",
      "source": [
        "import numpy as np\n",
        "from sklearn.model_selection import train_test_split\n",
        "from sklearn.linear_model import LogisticRegression\n",
        "from sklearn.metrics import accuracy_score\n",
        "\n",
        "#Sample dataset\n",
        "x = np.array([[2.5,3.5],[1.5,2.5],[3.5,4.5],[2.0,2.5],[3.0,3.0]])\n",
        "y = np.array([0,0,1,0,1]) #binary classes 0 or 1\n",
        "\n",
        "#Split the dataset into training and testing set\n",
        "x_train,x_test,y_train,y_test = train_test_split(x,y,test_size=0.2,random_state = 20)\n",
        "\n",
        "#Create Logistic regression model\n",
        "model = LogisticRegression()\n",
        "\n",
        "#train the model on the training data\n",
        "model.fit(x_train,y_train)\n",
        "\n",
        "#Make predictions on the testing data\n",
        "y_pred = model.predict(x_test)\n",
        "\n",
        "#Calculate accuracy\n",
        "accuracy = accuracy_score(y_test,y_pred)\n",
        "print(\"Accuracy:\",accuracy)"
      ],
      "metadata": {
        "colab": {
          "base_uri": "https://localhost:8080/"
        },
        "id": "eCmDUiO6KcIh",
        "outputId": "84c8fb67-da31-4eb2-8b6a-3c4f40b85d7a"
      },
      "execution_count": null,
      "outputs": [
        {
          "output_type": "stream",
          "name": "stdout",
          "text": [
            "Accuracy: 1.0\n"
          ]
        }
      ]
    },
    {
      "cell_type": "markdown",
      "source": [
        "# **Support Vector Machine [SVM]**\n",
        "SVM chooses the extreme points/vectors that help in creating the hyperplane.These extreme cases are called as support vectors,and hence algorithm is termed as Support Vector Machine."
      ],
      "metadata": {
        "id": "L7A9mC9_RfhQ"
      }
    },
    {
      "cell_type": "markdown",
      "source": [],
      "metadata": {
        "id": "3UGpt-b0jVOb"
      }
    },
    {
      "cell_type": "markdown",
      "source": [
        "**Decision Tree:** A tree like structure that uses a sequence of decisions to classify data points.\n",
        "note:A decision tree can contain categorical data(Yes/No) as well as numeric data.\n",
        "\n",
        "`1.Root Node:` Root node is from where the decision tree starts.It represent the entire dataset,which further gets divided into two or more homogeneous sets.\n",
        "\n",
        "`2.Leaf Node:` Leaf nodes are the final output,and the tree cannot segregated further after getting a leaf node.\n",
        "\n",
        "`3.Splitting:` Splitting is the process of dividing the decision node/root node into sub-nodes according to the given conditions.\n",
        "\n",
        "`4.Branch/Sub tree:` A tree formed by splitting the tree.\n",
        "\n",
        "`5.Pruning:` Pruning is the process of removing the unwanted branches from the tree.\n",
        "\n",
        "`6.Parent/Child node:` The root node of the tree us called the parent node,and other nodes are called the child nodes."
      ],
      "metadata": {
        "id": "vEVUcjG4VZrM"
      }
    },
    {
      "cell_type": "markdown",
      "source": [
        "`Multinomial Logistic Regression:` An extension of binary logistic regression to multiple classes.\n",
        "\n",
        "`Random Forest:`An ensemble algorithm that uses multiple decision trees to make predictions.\n",
        "\n",
        "`k-Nearest Neighbors(K-NN):` A simple algorithm that classifies a data point based in classes of its k nearest neighbor."
      ],
      "metadata": {
        "id": "u-c7iGQKjWjS"
      }
    },
    {
      "cell_type": "code",
      "source": [
        "import pandas as pd\n",
        "from sklearn.model_selection import train_test_split\n",
        "from sklearn.feature_extraction.text import CountVectorizer\n",
        "from sklearn.naive_bayes import MultinomialNB\n",
        "from sklearn.metrics import accuracy_score, classification_report, confusion_matrix\n",
        "\n",
        "# Sample dataset (replace with your own dataset)\n",
        "data = {'text': ['This is a positive review', 'Negative sentiment in the text',\n",
        "                 'Another positive example', 'Not happy with this product']}\n",
        "\n",
        "df = pd.DataFrame(data)\n",
        "df['label'] = [1, 0, 1, 0] # 1 for positive sentiment, 0 for negative sentiment\n",
        "\n",
        "# Split the dataset into training and testing sets\n",
        "X_train, X_test, y_train, y_test = train_test_split(df['text'], df['label'], test_size=0.2, random_state=42)\n",
        "\n",
        "# Convert text data to numerical features using CountVectorizer\n",
        "vectorizer = CountVectorizer()\n",
        "X_train_vectorized = vectorizer.fit_transform(X_train)\n",
        "X_test_vectorized = vectorizer.transform(X_test)\n",
        "\n",
        "# Create a Naive Bayes Model\n",
        "model = MultinomialNB()\n",
        "\n",
        "# Train the model on the training data\n",
        "model.fit(X_train_vectorized, y_train)\n",
        "\n",
        "# Make predictions on the testing data\n",
        "y_pred = model.predict(X_test_vectorized)\n",
        "\n",
        "# Print accuracy, classification report, and confusion matrix\n",
        "print(\"Accuracy: \", accuracy_score(y_test, y_pred))\n",
        "print()\n",
        "print(\"Classification Report:\\n\", classification_report(y_test, y_pred))\n",
        "print(\"Confusion Matrix:\\n\", confusion_matrix(y_test, y_pred))\n",
        "print(\"\\n<<<<------------------------------------------------------------->>>>\\n\")\n"
      ],
      "metadata": {
        "colab": {
          "base_uri": "https://localhost:8080/"
        },
        "id": "rBK0Q5aAoMDD",
        "outputId": "2ed1979a-f696-45cf-c61f-0ab4aaed539f"
      },
      "execution_count": null,
      "outputs": [
        {
          "output_type": "stream",
          "name": "stdout",
          "text": [
            "Accuracy:  0.0\n",
            "\n",
            "Classification Report:\n",
            "               precision    recall  f1-score   support\n",
            "\n",
            "           0       0.00      0.00      0.00       1.0\n",
            "           1       0.00      0.00      0.00       0.0\n",
            "\n",
            "    accuracy                           0.00       1.0\n",
            "   macro avg       0.00      0.00      0.00       1.0\n",
            "weighted avg       0.00      0.00      0.00       1.0\n",
            "\n",
            "Confusion Matrix:\n",
            " [[0 1]\n",
            " [0 0]]\n",
            "\n",
            "<<<<------------------------------------------------------------->>>>\n",
            "\n"
          ]
        },
        {
          "output_type": "stream",
          "name": "stderr",
          "text": [
            "/usr/local/lib/python3.10/dist-packages/sklearn/metrics/_classification.py:1344: UndefinedMetricWarning: Precision and F-score are ill-defined and being set to 0.0 in labels with no predicted samples. Use `zero_division` parameter to control this behavior.\n",
            "  _warn_prf(average, modifier, msg_start, len(result))\n",
            "/usr/local/lib/python3.10/dist-packages/sklearn/metrics/_classification.py:1344: UndefinedMetricWarning: Recall and F-score are ill-defined and being set to 0.0 in labels with no true samples. Use `zero_division` parameter to control this behavior.\n",
            "  _warn_prf(average, modifier, msg_start, len(result))\n",
            "/usr/local/lib/python3.10/dist-packages/sklearn/metrics/_classification.py:1344: UndefinedMetricWarning: Precision and F-score are ill-defined and being set to 0.0 in labels with no predicted samples. Use `zero_division` parameter to control this behavior.\n",
            "  _warn_prf(average, modifier, msg_start, len(result))\n",
            "/usr/local/lib/python3.10/dist-packages/sklearn/metrics/_classification.py:1344: UndefinedMetricWarning: Recall and F-score are ill-defined and being set to 0.0 in labels with no true samples. Use `zero_division` parameter to control this behavior.\n",
            "  _warn_prf(average, modifier, msg_start, len(result))\n",
            "/usr/local/lib/python3.10/dist-packages/sklearn/metrics/_classification.py:1344: UndefinedMetricWarning: Precision and F-score are ill-defined and being set to 0.0 in labels with no predicted samples. Use `zero_division` parameter to control this behavior.\n",
            "  _warn_prf(average, modifier, msg_start, len(result))\n",
            "/usr/local/lib/python3.10/dist-packages/sklearn/metrics/_classification.py:1344: UndefinedMetricWarning: Recall and F-score are ill-defined and being set to 0.0 in labels with no true samples. Use `zero_division` parameter to control this behavior.\n",
            "  _warn_prf(average, modifier, msg_start, len(result))\n"
          ]
        }
      ]
    }
  ]
}