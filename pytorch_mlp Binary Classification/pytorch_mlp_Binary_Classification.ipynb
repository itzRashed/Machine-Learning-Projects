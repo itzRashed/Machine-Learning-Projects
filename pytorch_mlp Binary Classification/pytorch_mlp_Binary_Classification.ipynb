{
  "nbformat": 4,
  "nbformat_minor": 0,
  "metadata": {
    "colab": {
      "provenance": []
    },
    "kernelspec": {
      "name": "python3",
      "display_name": "Python 3"
    },
    "language_info": {
      "name": "python"
    }
  },
  "cells": [
    {
      "cell_type": "code",
      "source": [
        "#Framework\n",
        "import torch\n",
        "import torch.nn as nn\n",
        "import torch.nn.functional as F  #torch is the main PyTorch library, nn contains neural network modules, and F contains various functions for neural network operations.\n",
        "\n",
        "class MLP(nn.Module): #custom class named MLP (Multi-Layer Perceptron) that inherits from nn.Module.  represent neural network model\n",
        "    def __init__(self, input_size, hidden_size, output_size): # defines the constructor method for the MLP class\n",
        "        super(MLP, self).__init__() # calls the constructor of the parent class nn.Module to initialize the MLP class\n",
        "        self.fc1 = nn.Linear(input_size, hidden_size)\n",
        "        self.relu = nn.ReLU()\n",
        "        self.fc2 = nn.Linear(hidden_size, output_size)\n",
        "\n",
        "    def forward(self, x):\n",
        "        x = self.fc1(x)\n",
        "        x = self.relu(x)\n",
        "        x = self.fc2(x)\n",
        "        return x\n",
        "\n",
        "def main():\n",
        "    x = torch.randn(2, 3) #tensor\n",
        "    model = MLP(3, 4, 2)\n",
        "    y = model(x)\n",
        "    print(y)\n",
        "\n",
        "if __name__ == \"__main__\":\n",
        "    main()\n"
      ],
      "metadata": {
        "colab": {
          "base_uri": "https://localhost:8080/"
        },
        "id": "Ypb1ajtkxWof",
        "outputId": "ddc9160e-791b-4a00-c98c-7218145be9a5"
      },
      "execution_count": null,
      "outputs": [
        {
          "output_type": "stream",
          "name": "stdout",
          "text": [
            "tensor([[ 0.3123, -0.7571],\n",
            "        [ 0.0929, -0.4266]], grad_fn=<AddmmBackward0>)\n"
          ]
        }
      ]
    },
    {
      "cell_type": "code",
      "source": [
        "#Framework\n",
        "import torch\n",
        "import torch.nn as nn\n",
        "import torch.optim as optim\n",
        "import numpy as np\n",
        "from torch.utils.data import DataLoader, TensorDataset\n",
        "from sklearn.model_selection import train_test_split\n",
        "from sklearn.datasets import make_classification\n",
        "from sklearn.preprocessing import StandardScaler\n",
        "\n",
        "# Define the MLP model\n",
        "class MLP(nn.Module):\n",
        "    def __init__(self, input_size, hidden_size, output_size):\n",
        "        super(MLP, self).__init__()\n",
        "        self.fc1 = nn.Linear(input_size, hidden_size)\n",
        "        self.relu = nn.ReLU()\n",
        "        self.fc2 = nn.Linear(hidden_size, output_size)\n",
        "\n",
        "    def forward(self, x):\n",
        "        x = self.fc1(x)\n",
        "        x = self.relu(x)\n",
        "        x = self.fc2(x)\n",
        "        return x\n",
        "\n",
        "# Define a function to train the model\n",
        "def train_model(model, train_loader, criterion, optimizer, num_epochs):\n",
        "    for epoch in range(num_epochs):\n",
        "        model.train()\n",
        "        total_loss = 0.0\n",
        "        for inputs, targets in train_loader:\n",
        "            optimizer.zero_grad()\n",
        "            outputs = model(inputs)\n",
        "            loss = criterion(outputs, targets)\n",
        "            loss.backward()\n",
        "            optimizer.step()\n",
        "            total_loss += loss.item()\n",
        "        print(f\"Epoch [{epoch + 1}/{num_epochs}] Loss: {total_loss / len(train_loader)}\")\n",
        "\n",
        "# Define a function to evaluate the model\n",
        "def evaluate_model(model, data_loader):\n",
        "    model.eval()\n",
        "    with torch.no_grad():\n",
        "        correct = 0\n",
        "        total = 0\n",
        "        for inputs, targets in data_loader:\n",
        "            outputs = model(inputs)\n",
        "            _, predicted = torch.max(outputs.data, 1)\n",
        "            total += targets.size(0)\n",
        "            correct += (predicted == targets).sum().item()\n",
        "        accuracy = 100 * correct / total\n",
        "        return accuracy\n",
        "\n",
        "# Main function\n",
        "def main():\n",
        "    # Generate synthetic data for demonstration purposes\n",
        "    X, y = make_classification(n_samples=1000, n_features=10, random_state=42)\n",
        "\n",
        "    # Split the data into training and testing sets\n",
        "    X_train, X_test, y_train, y_test = train_test_split(X, y, test_size=0.2, random_state=42)\n",
        "\n",
        "    # Standardize features using StandardScaler (if needed)\n",
        "    scaler = StandardScaler()\n",
        "    X_train = scaler.fit_transform(X_train)\n",
        "    X_test = scaler.transform(X_test)\n",
        "\n",
        "    # Convert data to PyTorch tensors\n",
        "    train_data = TensorDataset(torch.tensor(X_train, dtype=torch.float32), torch.tensor(y_train, dtype=torch.long))\n",
        "    test_data = TensorDataset(torch.tensor(X_test, dtype=torch.float32), torch.tensor(y_test, dtype=torch.long))\n",
        "\n",
        "    # Create data loaders\n",
        "    batch_size = 64\n",
        "    train_loader = DataLoader(train_data, batch_size=batch_size, shuffle=True)\n",
        "    test_loader = DataLoader(test_data, batch_size=batch_size)\n",
        "\n",
        "    # Define model parameters\n",
        "    input_size = X_train.shape[1]\n",
        "    hidden_size = 128\n",
        "    output_size = 2  # Change this to the number of classes in your dataset\n",
        "\n",
        "    # Create the MLP model\n",
        "    model = MLP(input_size, hidden_size, output_size)\n",
        "\n",
        "    # Define loss function and optimizer\n",
        "    criterion = nn.CrossEntropyLoss()\n",
        "    optimizer = optim.Adam(model.parameters(), lr=0.001)\n",
        "\n",
        "    # Train the model\n",
        "    num_epochs = 10\n",
        "    train_model(model, train_loader, criterion, optimizer, num_epochs)\n",
        "\n",
        "    # Evaluate the model on the test set\n",
        "    accuracy = evaluate_model(model, test_loader)\n",
        "    print(f\"Test Accuracy: {accuracy:.2f}%\")\n",
        "\n",
        "if __name__ == \"__main__\":\n",
        "    main()\n"
      ],
      "metadata": {
        "colab": {
          "base_uri": "https://localhost:8080/"
        },
        "id": "PZlcbWh10euu",
        "outputId": "0b531cb6-6dfc-4145-d864-c798976b03c2"
      },
      "execution_count": null,
      "outputs": [
        {
          "output_type": "stream",
          "name": "stdout",
          "text": [
            "Epoch [1/10] Loss: 0.6708698410254258\n",
            "Epoch [2/10] Loss: 0.5423146302883441\n",
            "Epoch [3/10] Loss: 0.46120363703140843\n",
            "Epoch [4/10] Loss: 0.41199647234036374\n",
            "Epoch [5/10] Loss: 0.37949171433081996\n",
            "Epoch [6/10] Loss: 0.356646872483767\n",
            "Epoch [7/10] Loss: 0.34246204793453217\n",
            "Epoch [8/10] Loss: 0.3305731026025919\n",
            "Epoch [9/10] Loss: 0.3189007422098747\n",
            "Epoch [10/10] Loss: 0.3125559091567993\n",
            "Test Accuracy: 83.50%\n"
          ]
        }
      ]
    }
  ]
}